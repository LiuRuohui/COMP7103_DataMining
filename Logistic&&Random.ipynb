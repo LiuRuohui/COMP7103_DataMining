#!/usr/bin/env python
# coding: utf-8

# In[1]:


import pandas as pd
from sklearn.model_selection import train_test_split, GridSearchCV
from sklearn.linear_model import LogisticRegression
from sklearn.ensemble import RandomForestClassifier
from sklearn.metrics import accuracy_score, confusion_matrix, classification_report, ConfusionMatrixDisplay, roc_auc_score, precision_recall_curve
from sklearn.feature_selection import SelectKBest, f_classif
from sklearn.preprocessing import StandardScaler
from imblearn.over_sampling import SMOTE
import matplotlib.pyplot as plt

# 加载数据
data_cleaned = pd.read_csv('data_cleaned.csv')

# 查看数据基本信息
print(data_cleaned.head())
print(data_cleaned.info())

# 计算与目标变量的相关性
correlation_matrix = data_cleaned.corr()
strong_correlation_cols = correlation_matrix['HadHeartAttack'].abs().sort_values(ascending=False)
print("相关性排序:", strong_correlation_cols)

# 筛选强相关特征（相关性 > 0.1）
strong_correlation_cols = strong_correlation_cols[strong_correlation_cols > 0.1].index.tolist()
strong_correlation_cols.remove('HadHeartAttack')
print("强相关特征:", strong_correlation_cols)

# 确保所有列为数值类型
for col in data_cleaned.columns:
    if data_cleaned[col].dtype == 'object':
        print(f"Warning: Column {col} is still of type 'object'. Attempting to convert.")
    data_cleaned[col] = pd.to_numeric(data_cleaned[col], errors='coerce')

# 特征和目标变量
X = data_cleaned[strong_correlation_cols]
y = data_cleaned['HadHeartAttack'].astype('int')

# 数据标准化
scaler = StandardScaler()
X = scaler.fit_transform(X)

# 划分训练集和测试集
X_train, X_test, y_train, y_test = train_test_split(X, y, test_size=0.2, random_state=42)

# 检查类别分布
print("训练集类别分布:\n", y_train.value_counts())
print("测试集类别分布:\n", y_test.value_counts())

# 使用 SMOTE 平衡数据
smote = SMOTE(random_state=42)
X_train_resampled, y_train_resampled = smote.fit_resample(X_train, y_train)
print("重采样后类别分布:\n", y_train_resampled.value_counts())

# 模型评估函数
# 模型评估函数（增加 ROC 曲线和 Train/Test 曲线）
def evaluate_model_with_plots(model, X_train, y_train, X_test, y_test, model_name):
    # 获取预测结果
    y_pred = model.predict(X_test)
    accuracy = accuracy_score(y_test, y_pred)

    # 混淆矩阵和分类报告
    conf_matrix = confusion_matrix(y_test, y_pred)
    class_report = classification_report(y_test, y_pred, zero_division=1)
    print(f'{model_name} Accuracy: {accuracy:.2f}')
    print(f'{model_name} Classification Report:\n{class_report}')

    # 绘制混淆矩阵
    disp = ConfusionMatrixDisplay(confusion_matrix=conf_matrix, display_labels=['No Heart Disease', 'Heart Disease'])
    disp.plot()
    plt.title(f'{model_name} Confusion Matrix')
    plt.show()

    # ROC 曲线
    if hasattr(model, "predict_proba"):
        y_scores = model.predict_proba(X_test)[:, 1]
    else:
        y_scores = model.decision_function(X_test)
    from sklearn.metrics import roc_curve
    fpr, tpr, _ = roc_curve(y_test, y_scores)
    roc_auc = roc_auc_score(y_test, y_scores)
    plt.figure()
    plt.plot(fpr, tpr, color='orange', label=f'ROC curve (AUC = {roc_auc:.2f})')
    plt.plot([0, 1], [0, 1], color='navy', linestyle='--')
    plt.xlabel("False Positive Rate")
    plt.ylabel("True Positive Rate")
    plt.title(f"ROC Curve for {model_name}")
    plt.legend(loc="lower right")
    plt.show()

    # 绘制 PR 曲线
    precision, recall, thresholds = precision_recall_curve(y_test, y_scores)
    plt.plot(recall, precision, label=f"{model_name}")
    plt.xlabel("Recall")
    plt.ylabel("Precision")
    plt.title(f"Precision-Recall Curve for {model_name}")
    plt.legend()
    plt.show()

    return accuracy


# Logistic Regression 模型
logistic_model = LogisticRegression(random_state=42, max_iter=1000, C=0.1, solver='liblinear', class_weight='balanced')
logistic_model.fit(X_train_resampled, y_train_resampled)
print("Logistic Regression Results:")
logistic_accuracy = evaluate_model_with_plots(logistic_model, X_train_resampled, y_train_resampled, X_test, y_test, "Logistic Regression")

# 随机森林模型调优
param_grid = {
    'n_estimators': [100, 200],
    'max_depth': [None, 10, 20],
    'min_samples_split': [2, 5],
    'min_samples_leaf': [1, 2]
}
grid_search = GridSearchCV(RandomForestClassifier(random_state=42, class_weight='balanced'), param_grid, cv=2)
grid_search.fit(X_train_resampled, y_train_resampled)
best_rf_model = grid_search.best_estimator_
print("Random Forest Results:")
rf_accuracy = evaluate_model_with_plots(best_rf_model, X_train_resampled, y_train_resampled, X_test, y_test, "Tuned Random Forest")

# 输出两个模型的准确率
print(f"Logistic Regression Accuracy: {logistic_accuracy:.4f}")
print(f"Tuned Random Forest Accuracy: {rf_accuracy:.4f}")


